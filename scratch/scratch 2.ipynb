{
 "metadata": {
  "name": "",
  "signature": "sha256:bd16b1b97e2f69b057cf9b2f66c372de1bb39670dd71b350cb555e2174e76f77"
 },
 "nbformat": 3,
 "nbformat_minor": 0,
 "worksheets": [
  {
   "cells": [
    {
     "cell_type": "code",
     "collapsed": false,
     "input": [
      "### Example 4-15: Collection Combine: sequence IDs from multiple files\n",
      "\n",
      "def extract_gi_id(description):\n",
      "    \"\"\"Given a FASTA file description line, return its GenInfo ID if\n",
      "    it has one\"\"\"\n",
      "    if description[0] != '>':\n",
      "        return None\n",
      "    fields = description[1:].split('|')\n",
      "    if 'gi' not in fields:\n",
      "        return None\n",
      "    return fields[1 + fields.index('gi')]\n",
      "\n",
      "def get_gi_ids(filename):\n",
      "    \"\"\"Return a list of the GenInfo IDs of all sequences found in the\n",
      "    file named filename\"\"\"\n",
      "    with open(filename) as file:\n",
      "        return [extract_gi_id(line) for line in file if line[0] == '>']\n",
      "\n",
      "def get_gi_ids_from_files(filenames):\n",
      "    \"\"\"Return a list of the GenInfo IDs of all sequences found in the\n",
      "    files whose names are contained in the collection filenames\"\"\"\n",
      "    idlst = []\n",
      "    for filename in filenames:\n",
      "        idlst += get_gi_ids(filename)\n",
      "    return idlst\n",
      "\n",
      "def test():\n",
      "    filenames = ('../data/nadh.fasta',\n",
      "                 '../data/aa003.fasta',\n",
      "                 '../data/BacillusSubtilisPlastmidP1414.fasta'\n",
      "                 )\n",
      "    print(get_gi_ids_from_files(filenames))\n",
      "\n"
     ],
     "language": "python",
     "metadata": {},
     "outputs": []
    },
    {
     "cell_type": "code",
     "collapsed": false,
     "input": [
      "filenames = ('nadh.fasta',\n",
      "             'aa001.fasta')\n",
      "filename = ('nadh.fasta')\n",
      "with open(filename) as file:\n",
      "    fp = file.read()\n",
      "\n",
      "def read_fasta(filename):\n",
      "    with open(filename) as file:\n",
      "        contents = file.read()\n",
      "    entries = contents.split('>')[1:]\n",
      "    partitioned_entries = [entry.partition('\\n') for entry in entries]\n",
      "    pairs = [(entry[0], entry[2]) for entry in partitioned_entries] # omit '>' pairs2 = [(pair[0], pair[1].replace('\\n', '')) for pair in pairs]\n",
      "    result = [(pair[0].split('|'), pair[1]) for pair in pairs2]\n",
      "    return result"
     ],
     "language": "python",
     "metadata": {},
     "outputs": [],
     "prompt_number": 27
    },
    {
     "cell_type": "code",
     "collapsed": false,
     "input": [
      "import pprint\n",
      "with open(filename) as file:\n",
      "    contents = file.read()\n",
      "    entries = contents.split('>')[1:]\n",
      "    partitioned_entries = [entry.partition('\\n') for entry in entries]\n",
      "    pairs = [(entry[0], entry[2]) for entry in partitioned_entries] \n",
      "    pprint.pprint(pairs[1])\n",
      "\n",
      "    #print partitioned_entries[1]\n",
      "    "
     ],
     "language": "python",
     "metadata": {},
     "outputs": [
      {
       "output_type": "stream",
       "stream": "stdout",
       "text": [
        "('gi|6694190|gb|AAF25170.1|AF182342_1 (AF182342) NADH dehydrogenase [Shibataea kumasaca]',\n",
        " 'WVIPLLPLPVIMSMGFGLILIPTATKNLRRIWAFPCVLLLSIAMVFSVHLSIQQINGSSIYQYLWSWTVNNDFSLEFGYL\\nIDPLTSIMLILITTVGILVLIYSDDYMSHDEGYLRFFVYISFFNTSMLGLVTSSNLIQIYFFWELVGMCSYLLIGFWFTR\\nPIAASACQKAFVTNRVGDFGLLLGILGFFWITGSLEFRDLFKIANNWIPNNGINSLLTTLCAFLLFLGAVAKSAQFPLHV\\nWLPDAMEGPTPISALIHAATMVAAGIFLLARLLPLFISLPLIMSFISLVGTITLFLGATLALAQRDIKRSLAYSTMSQLG\\nYMMLALGIGSYQAALFHLITHAYSKALLFLGSGSIIHSMEPLVGYSPDKSQNMVLMGGLRKYVPITRTTFLWGTLSLCGI\\nPPLACFWSKDEILSNSWLYSPFFGIIASFTAGLTAFYMFRIYLLTFDGYLRVHFQNYSSTKEGSLYSISLWGKRIPKGVN\\nRDFILSTTKSGVSFFSQNISKIHGNTRNRIGSFSTSFGAKNTFVYPHETGNTMLFPLFILLLFTLFIGSIGIHFDNGVMD\\nNGIAELTILSKWLTPSINFFQESSNSSINSYEFITNAISSVSLAMFGLSIAYIFYGSAYSFFQNLDLINSLVKESPKKFF\\nSDQVKKKIYSWSYNRGYIDIFYTRVFTLGIRGLTELTQFFDKGVIDGITNGVGLAGFCIGEGIKY\\n')\n"
       ]
      }
     ],
     "prompt_number": 32
    },
    {
     "cell_type": "code",
     "collapsed": false,
     "input": [
      "\n",
      "def read_FASTA_strings(filename): \n",
      "    with open(filename) as file:\n",
      "        return file.read().split('>')[1:]\n",
      "    \n",
      "def read_FASTA_entries(filename):\n",
      "    return [seq.partition('\\n') for seq in read_FASTA_strings(filename)]\n",
      "\n",
      "def read_FASTA_sequences(filename):\n",
      "    return [[seq[0][1:],\n",
      "             seq[2].replace('\\n', '')]\n",
      "            for seq in read_FASTA_entries(filename)]\n",
      "\n",
      "foo = read_FASTA_strings(filename)\n",
      "bar = read_FASTA_entries(filename)\n",
      "fooo = read_FASTA_sequences(filename)\n",
      "\n",
      "pprint.pprint(bar[1])"
     ],
     "language": "python",
     "metadata": {},
     "outputs": [
      {
       "output_type": "stream",
       "stream": "stdout",
       "text": [
        "('gi|6694190|gb|AAF25170.1|AF182342_1 (AF182342) NADH dehydrogenase [Shibataea kumasaca]',\n",
        " '\\n',\n",
        " 'WVIPLLPLPVIMSMGFGLILIPTATKNLRRIWAFPCVLLLSIAMVFSVHLSIQQINGSSIYQYLWSWTVNNDFSLEFGYL\\nIDPLTSIMLILITTVGILVLIYSDDYMSHDEGYLRFFVYISFFNTSMLGLVTSSNLIQIYFFWELVGMCSYLLIGFWFTR\\nPIAASACQKAFVTNRVGDFGLLLGILGFFWITGSLEFRDLFKIANNWIPNNGINSLLTTLCAFLLFLGAVAKSAQFPLHV\\nWLPDAMEGPTPISALIHAATMVAAGIFLLARLLPLFISLPLIMSFISLVGTITLFLGATLALAQRDIKRSLAYSTMSQLG\\nYMMLALGIGSYQAALFHLITHAYSKALLFLGSGSIIHSMEPLVGYSPDKSQNMVLMGGLRKYVPITRTTFLWGTLSLCGI\\nPPLACFWSKDEILSNSWLYSPFFGIIASFTAGLTAFYMFRIYLLTFDGYLRVHFQNYSSTKEGSLYSISLWGKRIPKGVN\\nRDFILSTTKSGVSFFSQNISKIHGNTRNRIGSFSTSFGAKNTFVYPHETGNTMLFPLFILLLFTLFIGSIGIHFDNGVMD\\nNGIAELTILSKWLTPSINFFQESSNSSINSYEFITNAISSVSLAMFGLSIAYIFYGSAYSFFQNLDLINSLVKESPKKFF\\nSDQVKKKIYSWSYNRGYIDIFYTRVFTLGIRGLTELTQFFDKGVIDGITNGVGLAGFCIGEGIKY\\n')\n"
       ]
      }
     ],
     "prompt_number": 51
    },
    {
     "cell_type": "code",
     "collapsed": false,
     "input": [
      "pprint.pprint(fooo[1])\n",
      "type(fooo)"
     ],
     "language": "python",
     "metadata": {},
     "outputs": [
      {
       "output_type": "stream",
       "stream": "stdout",
       "text": [
        "['i|6694190|gb|AAF25170.1|AF182342_1 (AF182342) NADH dehydrogenase [Shibataea kumasaca]',\n",
        " 'WVIPLLPLPVIMSMGFGLILIPTATKNLRRIWAFPCVLLLSIAMVFSVHLSIQQINGSSIYQYLWSWTVNNDFSLEFGYLIDPLTSIMLILITTVGILVLIYSDDYMSHDEGYLRFFVYISFFNTSMLGLVTSSNLIQIYFFWELVGMCSYLLIGFWFTRPIAASACQKAFVTNRVGDFGLLLGILGFFWITGSLEFRDLFKIANNWIPNNGINSLLTTLCAFLLFLGAVAKSAQFPLHVWLPDAMEGPTPISALIHAATMVAAGIFLLARLLPLFISLPLIMSFISLVGTITLFLGATLALAQRDIKRSLAYSTMSQLGYMMLALGIGSYQAALFHLITHAYSKALLFLGSGSIIHSMEPLVGYSPDKSQNMVLMGGLRKYVPITRTTFLWGTLSLCGIPPLACFWSKDEILSNSWLYSPFFGIIASFTAGLTAFYMFRIYLLTFDGYLRVHFQNYSSTKEGSLYSISLWGKRIPKGVNRDFILSTTKSGVSFFSQNISKIHGNTRNRIGSFSTSFGAKNTFVYPHETGNTMLFPLFILLLFTLFIGSIGIHFDNGVMDNGIAELTILSKWLTPSINFFQESSNSSINSYEFITNAISSVSLAMFGLSIAYIFYGSAYSFFQNLDLINSLVKESPKKFFSDQVKKKIYSWSYNRGYIDIFYTRVFTLGIRGLTELTQFFDKGVIDGITNGVGLAGFCIGEGIKY']\n"
       ]
      },
      {
       "metadata": {},
       "output_type": "pyout",
       "prompt_number": 54,
       "text": [
        "list"
       ]
      }
     ],
     "prompt_number": 54
    },
    {
     "cell_type": "code",
     "collapsed": false,
     "input": [
      "def read_FASTA_sequences(filename):\n",
      "    return [(info[1:], seq.replace('\\n', ''))\n",
      "            for info, ignore, seq in            # ignore is ignored (!) \n",
      "            read_FASTA_entries(filename)]\n"
     ],
     "language": "python",
     "metadata": {},
     "outputs": [
      {
       "output_type": "stream",
       "stream": "stdout",
       "text": [
        "/Users/ashleysdoane/YuLab/BioinformaticsProgrammingUsingPython/data\n"
       ]
      }
     ],
     "prompt_number": 7
    },
    {
     "cell_type": "code",
     "collapsed": false,
     "input": [
      "lines = []\n",
      "with uni_txt as file:\n",
      "for line in file:\n",
      "if preliminary-test:\n",
      "flag = primary-test(line) lines.append(line)\n",
      "# or concatenate, etc.\n",
      "return lines"
     ],
     "language": "python",
     "metadata": {},
     "outputs": []
    }
   ],
   "metadata": {}
  }
 ]
}